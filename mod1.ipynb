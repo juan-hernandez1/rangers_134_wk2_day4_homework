{
 "cells": [
  {
   "cell_type": "code",
   "execution_count": 1,
   "id": "3be0c324",
   "metadata": {},
   "outputs": [
    {
     "name": "stdout",
     "output_type": "stream",
     "text": [
      "Enter length in feet: 100\n",
      "Enter width in feet: 100\n",
      "Square footage of the house is: 10000 square feet\n",
      "Enter the radius of the circle : 300\n",
      "Circumference of the circle is : 1884.96\n"
     ]
    }
   ],
   "source": [
    "from mod1 import square_footage"
   ]
  },
  {
   "cell_type": "code",
   "execution_count": null,
   "id": "9046b94c",
   "metadata": {},
   "outputs": [],
   "source": []
  }
 ],
 "metadata": {
  "kernelspec": {
   "display_name": "Python 3 (ipykernel)",
   "language": "python",
   "name": "python3"
  },
  "language_info": {
   "codemirror_mode": {
    "name": "ipython",
    "version": 3
   },
   "file_extension": ".py",
   "mimetype": "text/x-python",
   "name": "python",
   "nbconvert_exporter": "python",
   "pygments_lexer": "ipython3",
   "version": "3.11.4"
  }
 },
 "nbformat": 4,
 "nbformat_minor": 5
}
